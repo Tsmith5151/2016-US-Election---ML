{
 "cells": [
  {
   "cell_type": "code",
   "execution_count": 183,
   "metadata": {
    "collapsed": false,
    "scrolled": true
   },
   "outputs": [],
   "source": [
    "import pandas as pd\n",
    "import numpy as np\n",
    "import matplotlib as pl\n",
    "import seaborn as sns; sns.set(color_codes=True)\n",
    "import sqlite3\n",
    "%matplotlib inline\n",
    "import warnings\n",
    "warnings.filterwarnings('ignore')"
   ]
  },
  {
   "cell_type": "code",
   "execution_count": 2,
   "metadata": {
    "collapsed": false,
    "scrolled": true
   },
   "outputs": [
    {
     "data": {
      "text/plain": [
       "u'Connected: None@database.sqlite'"
      ]
     },
     "execution_count": 2,
     "metadata": {},
     "output_type": "execute_result"
    }
   ],
   "source": [
    "%load_ext sql\n",
    "%sql sqlite:///database.sqlite"
   ]
  },
  {
   "cell_type": "code",
   "execution_count": 3,
   "metadata": {
    "collapsed": false,
    "scrolled": true
   },
   "outputs": [
    {
     "name": "stdout",
     "output_type": "stream",
     "text": [
      "Successfully connected to the database\n"
     ]
    }
   ],
   "source": [
    "try:    \n",
    "    db = sqlite3.connect('database.sqlite')\n",
    "    c = db.cursor()\n",
    "    print \"Successfully connected to the database\"\n",
    "except IntegrityError:\n",
    "    print\"Did not successfully connect to database\""
   ]
  },
  {
   "cell_type": "code",
   "execution_count": 7,
   "metadata": {
    "collapsed": false,
    "scrolled": false
   },
   "outputs": [
    {
     "data": {
      "text/html": [
       "<div>\n",
       "<table border=\"1\" class=\"dataframe\">\n",
       "  <thead>\n",
       "    <tr style=\"text-align: right;\">\n",
       "      <th></th>\n",
       "      <th>state</th>\n",
       "      <th>state_abbreviation</th>\n",
       "      <th>county</th>\n",
       "      <th>fips</th>\n",
       "      <th>party</th>\n",
       "      <th>candidate</th>\n",
       "      <th>votes</th>\n",
       "      <th>fraction_votes</th>\n",
       "      <th>county_state</th>\n",
       "    </tr>\n",
       "  </thead>\n",
       "  <tbody>\n",
       "    <tr>\n",
       "      <th>0</th>\n",
       "      <td>Alabama</td>\n",
       "      <td>AL</td>\n",
       "      <td>Autauga</td>\n",
       "      <td>1001</td>\n",
       "      <td>Republican</td>\n",
       "      <td>Donald_Trump</td>\n",
       "      <td>5387</td>\n",
       "      <td>0.445</td>\n",
       "      <td>Autauga_AL</td>\n",
       "    </tr>\n",
       "    <tr>\n",
       "      <th>1</th>\n",
       "      <td>Alabama</td>\n",
       "      <td>AL</td>\n",
       "      <td>Autauga</td>\n",
       "      <td>1001</td>\n",
       "      <td>Republican</td>\n",
       "      <td>Ted_Cruz</td>\n",
       "      <td>2482</td>\n",
       "      <td>0.205</td>\n",
       "      <td>Autauga_AL</td>\n",
       "    </tr>\n",
       "    <tr>\n",
       "      <th>2</th>\n",
       "      <td>Alabama</td>\n",
       "      <td>AL</td>\n",
       "      <td>Autauga</td>\n",
       "      <td>1001</td>\n",
       "      <td>Republican</td>\n",
       "      <td>Marco_Rubio</td>\n",
       "      <td>1785</td>\n",
       "      <td>0.148</td>\n",
       "      <td>Autauga_AL</td>\n",
       "    </tr>\n",
       "    <tr>\n",
       "      <th>3</th>\n",
       "      <td>Alabama</td>\n",
       "      <td>AL</td>\n",
       "      <td>Autauga</td>\n",
       "      <td>1001</td>\n",
       "      <td>Republican</td>\n",
       "      <td>Ben_Carson</td>\n",
       "      <td>1764</td>\n",
       "      <td>0.146</td>\n",
       "      <td>Autauga_AL</td>\n",
       "    </tr>\n",
       "    <tr>\n",
       "      <th>4</th>\n",
       "      <td>Alabama</td>\n",
       "      <td>AL</td>\n",
       "      <td>Autauga</td>\n",
       "      <td>1001</td>\n",
       "      <td>Republican</td>\n",
       "      <td>John_Kasich</td>\n",
       "      <td>421</td>\n",
       "      <td>0.035</td>\n",
       "      <td>Autauga_AL</td>\n",
       "    </tr>\n",
       "  </tbody>\n",
       "</table>\n",
       "</div>"
      ],
      "text/plain": [
       "     state state_abbreviation   county  fips       party     candidate  votes  \\\n",
       "0  Alabama                 AL  Autauga  1001  Republican  Donald_Trump   5387   \n",
       "1  Alabama                 AL  Autauga  1001  Republican      Ted_Cruz   2482   \n",
       "2  Alabama                 AL  Autauga  1001  Republican   Marco_Rubio   1785   \n",
       "3  Alabama                 AL  Autauga  1001  Republican    Ben_Carson   1764   \n",
       "4  Alabama                 AL  Autauga  1001  Republican   John_Kasich    421   \n",
       "\n",
       "   fraction_votes county_state  \n",
       "0           0.445   Autauga_AL  \n",
       "1           0.205   Autauga_AL  \n",
       "2           0.148   Autauga_AL  \n",
       "3           0.146   Autauga_AL  \n",
       "4           0.035   Autauga_AL  "
      ]
     },
     "execution_count": 7,
     "metadata": {},
     "output_type": "execute_result"
    }
   ],
   "source": [
    "# Primary results\n",
    "df_primary_results.head()"
   ]
  },
  {
   "cell_type": "code",
   "execution_count": 8,
   "metadata": {
    "collapsed": false,
    "scrolled": true
   },
   "outputs": [
    {
     "data": {
      "text/html": [
       "<div>\n",
       "<table border=\"1\" class=\"dataframe\">\n",
       "  <thead>\n",
       "    <tr style=\"text-align: right;\">\n",
       "      <th></th>\n",
       "      <th>fips</th>\n",
       "      <th>area_name</th>\n",
       "      <th>state_abbreviation</th>\n",
       "      <th>PST045214</th>\n",
       "      <th>PST040210</th>\n",
       "      <th>PST120214</th>\n",
       "      <th>POP010210</th>\n",
       "      <th>AGE135214</th>\n",
       "      <th>AGE295214</th>\n",
       "      <th>AGE775214</th>\n",
       "      <th>...</th>\n",
       "      <th>SBO015207</th>\n",
       "      <th>MAN450207</th>\n",
       "      <th>WTN220207</th>\n",
       "      <th>RTN130207</th>\n",
       "      <th>RTN131207</th>\n",
       "      <th>AFN120207</th>\n",
       "      <th>BPS030214</th>\n",
       "      <th>LND110210</th>\n",
       "      <th>POP060210</th>\n",
       "      <th>county_state</th>\n",
       "    </tr>\n",
       "  </thead>\n",
       "  <tbody>\n",
       "    <tr>\n",
       "      <th>0</th>\n",
       "      <td>1001</td>\n",
       "      <td>Autauga</td>\n",
       "      <td>AL</td>\n",
       "      <td>55395</td>\n",
       "      <td>54571</td>\n",
       "      <td>1.5</td>\n",
       "      <td>54571</td>\n",
       "      <td>6.0</td>\n",
       "      <td>25.2</td>\n",
       "      <td>13.8</td>\n",
       "      <td>...</td>\n",
       "      <td>31.7</td>\n",
       "      <td>0</td>\n",
       "      <td>0</td>\n",
       "      <td>598175</td>\n",
       "      <td>12003</td>\n",
       "      <td>88157</td>\n",
       "      <td>131</td>\n",
       "      <td>594.44</td>\n",
       "      <td>91.8</td>\n",
       "      <td>Autauga_AL</td>\n",
       "    </tr>\n",
       "    <tr>\n",
       "      <th>1</th>\n",
       "      <td>1003</td>\n",
       "      <td>Baldwin</td>\n",
       "      <td>AL</td>\n",
       "      <td>200111</td>\n",
       "      <td>182265</td>\n",
       "      <td>9.8</td>\n",
       "      <td>182265</td>\n",
       "      <td>5.6</td>\n",
       "      <td>22.2</td>\n",
       "      <td>18.7</td>\n",
       "      <td>...</td>\n",
       "      <td>27.3</td>\n",
       "      <td>1410273</td>\n",
       "      <td>0</td>\n",
       "      <td>2966489</td>\n",
       "      <td>17166</td>\n",
       "      <td>436955</td>\n",
       "      <td>1384</td>\n",
       "      <td>1589.78</td>\n",
       "      <td>114.6</td>\n",
       "      <td>Baldwin_AL</td>\n",
       "    </tr>\n",
       "    <tr>\n",
       "      <th>2</th>\n",
       "      <td>1005</td>\n",
       "      <td>Barbour</td>\n",
       "      <td>AL</td>\n",
       "      <td>26887</td>\n",
       "      <td>27457</td>\n",
       "      <td>-2.1</td>\n",
       "      <td>27457</td>\n",
       "      <td>5.7</td>\n",
       "      <td>21.2</td>\n",
       "      <td>16.5</td>\n",
       "      <td>...</td>\n",
       "      <td>27.0</td>\n",
       "      <td>0</td>\n",
       "      <td>0</td>\n",
       "      <td>188337</td>\n",
       "      <td>6334</td>\n",
       "      <td>0</td>\n",
       "      <td>8</td>\n",
       "      <td>884.88</td>\n",
       "      <td>31.0</td>\n",
       "      <td>Barbour_AL</td>\n",
       "    </tr>\n",
       "    <tr>\n",
       "      <th>3</th>\n",
       "      <td>1007</td>\n",
       "      <td>Bibb</td>\n",
       "      <td>AL</td>\n",
       "      <td>22506</td>\n",
       "      <td>22919</td>\n",
       "      <td>-1.8</td>\n",
       "      <td>22915</td>\n",
       "      <td>5.3</td>\n",
       "      <td>21.0</td>\n",
       "      <td>14.8</td>\n",
       "      <td>...</td>\n",
       "      <td>0.0</td>\n",
       "      <td>0</td>\n",
       "      <td>0</td>\n",
       "      <td>124707</td>\n",
       "      <td>5804</td>\n",
       "      <td>10757</td>\n",
       "      <td>19</td>\n",
       "      <td>622.58</td>\n",
       "      <td>36.8</td>\n",
       "      <td>Bibb_AL</td>\n",
       "    </tr>\n",
       "    <tr>\n",
       "      <th>4</th>\n",
       "      <td>1009</td>\n",
       "      <td>Blount</td>\n",
       "      <td>AL</td>\n",
       "      <td>57719</td>\n",
       "      <td>57322</td>\n",
       "      <td>0.7</td>\n",
       "      <td>57322</td>\n",
       "      <td>6.1</td>\n",
       "      <td>23.6</td>\n",
       "      <td>17.0</td>\n",
       "      <td>...</td>\n",
       "      <td>23.2</td>\n",
       "      <td>341544</td>\n",
       "      <td>0</td>\n",
       "      <td>319700</td>\n",
       "      <td>5622</td>\n",
       "      <td>20941</td>\n",
       "      <td>3</td>\n",
       "      <td>644.78</td>\n",
       "      <td>88.9</td>\n",
       "      <td>Blount_AL</td>\n",
       "    </tr>\n",
       "  </tbody>\n",
       "</table>\n",
       "<p>5 rows × 55 columns</p>\n",
       "</div>"
      ],
      "text/plain": [
       "   fips area_name state_abbreviation  PST045214  PST040210  PST120214  \\\n",
       "0  1001   Autauga                 AL      55395      54571        1.5   \n",
       "1  1003   Baldwin                 AL     200111     182265        9.8   \n",
       "2  1005   Barbour                 AL      26887      27457       -2.1   \n",
       "3  1007      Bibb                 AL      22506      22919       -1.8   \n",
       "4  1009    Blount                 AL      57719      57322        0.7   \n",
       "\n",
       "   POP010210  AGE135214  AGE295214  AGE775214      ...       SBO015207  \\\n",
       "0      54571        6.0       25.2       13.8      ...            31.7   \n",
       "1     182265        5.6       22.2       18.7      ...            27.3   \n",
       "2      27457        5.7       21.2       16.5      ...            27.0   \n",
       "3      22915        5.3       21.0       14.8      ...             0.0   \n",
       "4      57322        6.1       23.6       17.0      ...            23.2   \n",
       "\n",
       "   MAN450207  WTN220207  RTN130207  RTN131207  AFN120207  BPS030214  \\\n",
       "0          0          0     598175      12003      88157        131   \n",
       "1    1410273          0    2966489      17166     436955       1384   \n",
       "2          0          0     188337       6334          0          8   \n",
       "3          0          0     124707       5804      10757         19   \n",
       "4     341544          0     319700       5622      20941          3   \n",
       "\n",
       "   LND110210  POP060210  county_state  \n",
       "0     594.44       91.8    Autauga_AL  \n",
       "1    1589.78      114.6    Baldwin_AL  \n",
       "2     884.88       31.0    Barbour_AL  \n",
       "3     622.58       36.8       Bibb_AL  \n",
       "4     644.78       88.9     Blount_AL  \n",
       "\n",
       "[5 rows x 55 columns]"
      ]
     },
     "execution_count": 8,
     "metadata": {},
     "output_type": "execute_result"
    }
   ],
   "source": [
    "# County Facts data\n",
    "df_county_facts.head()"
   ]
  },
  {
   "cell_type": "markdown",
   "metadata": {},
   "source": [
    "# Vote Summary:"
   ]
  },
  {
   "cell_type": "code",
   "execution_count": 246,
   "metadata": {
    "collapsed": false
   },
   "outputs": [
    {
     "data": {
      "text/plain": [
       "<matplotlib.text.Text at 0x11ae15510>"
      ]
     },
     "execution_count": 246,
     "metadata": {},
     "output_type": "execute_result"
    },
    {
     "data": {
      "image/png": "[encoded data removed]",
      "text/plain": [
       "<matplotlib.figure.Figure at 0x12fb23790>"
      ]
     },
     "metadata": {},
     "output_type": "display_data"
    },
    {
     "data": {
      "image/png": "[encoded data removed]",
      "text/plain": [
       "<matplotlib.figure.Figure at 0x11ad3ac10>"
      ]
     },
     "metadata": {},
     "output_type": "display_data"
    }
   ],
   "source": [
    "votes_sum = pd.read_sql_query('SELECT candidate, party, sum(votes) as sum_votes FROM primary_results GROUP BY candidate, party ORDER BY sum_votes desc, party;',db)\n",
    "to_del = votes_sum.loc[votes_sum['candidate'].isin(['Jeb_Bush', 'Ben_Carson','Rand_Paul','Chris_Christie','Carly_Fiorina','Rick_Santorum','Mike_Huckabee',\"Martin_O'Malley\",\"Marco_Rubio\",\"_No_Preference\",\"_Uncommitted\"])].index.tolist()\n",
    "votes = votes_sum.drop(to_del)\n",
    "\n",
    "sns.plt.figure(figsize=(10,6))\n",
    "sns.barplot(y = 'candidate', x = 'sum_votes', data = votes, palette=\"GnBu_d\", saturation=.8)\n",
    "sns.plt.title('Total Votes per Candidate - Remaining', fontsize = 18)\n",
    "\n",
    "sns.plt.figure(figsize=(10,6))\n",
    "sns.barplot(y = 'candidate', x = 'sum_votes', data = votes_sum, palette=\"coolwarm\", saturation=.5)\n",
    "sns.plt.title('Total Votes per Candidate - All', fontsize = 18)"
   ]
  },
  {
   "cell_type": "code",
   "execution_count": 4,
   "metadata": {
    "collapsed": false,
    "scrolled": true
   },
   "outputs": [
    {
     "name": "stdout",
     "output_type": "stream",
     "text": [
      "Done.\n",
      "13212 rows affected.\n",
      "13212 rows affected.\n",
      "Done.\n",
      "4060 rows affected.\n",
      "Done.\n",
      "9152 rows affected.\n",
      "52 rows affected.\n",
      "52 rows affected.\n",
      "Done.\n",
      "3143 rows affected.\n",
      "3143 rows affected.\n",
      "3143 rows affected.\n"
     ]
    },
    {
     "data": {
      "text/plain": [
       "[]"
      ]
     },
     "execution_count": 4,
     "metadata": {},
     "output_type": "execute_result"
    }
   ],
   "source": [
    "#Primary Results:\n",
    "#%sql SELECT * FROM primary_results\n",
    "%sql ALTER TABLE primary_results ADD COLUMN county_state TEXT;\n",
    "%sql UPDATE primary_results SET county_state = (county || \"_\" || state_abbreviation);\n",
    "%sql UPDATE primary_results SET candidate = Replace(candidate,' ','_');\n",
    "\n",
    "#Republican Table:\n",
    "%sql CREATE TABLE Republicans AS SELECT * FROM primary_results;\n",
    "%sql DELETE FROM Republicans WHERE(party ='Democrat') \n",
    "\n",
    "#Democrat Table:\n",
    "%sql CREATE TABLE Democrats AS SELECT * FROM primary_results;\n",
    "%sql DELETE FROM Democrats WHERE(party ='Republican') \n",
    "\n",
    "#County Facts:\n",
    "%sql UPDATE county_facts SET state_abbreviation = NULL WHERE state_abbreviation = '';\n",
    "%sql DELETE FROM county_facts WHERE state_abbreviation IS NULL;\n",
    "%sql ALTER TABLE county_facts ADD COLUMN county_state TEXT;\n",
    "%sql UPDATE county_facts SET area_name = SUBSTR(area_name,1, LENGTH(area_name)-7);\n",
    "%sql UPDATE county_facts SET county_state = (area_name || \"_\" || state_abbreviation);\n",
    "%sql UPDATE county_facts SET county_state = REPLACE(county_state,'\"','');\n",
    "\n",
    "#Output County_Facts_Description as CSV file (.mode csv)\n",
    "#%sql .output county_facts_dict.csv # command in terminal"
   ]
  },
  {
   "cell_type": "code",
   "execution_count": 5,
   "metadata": {
    "collapsed": false,
    "scrolled": true
   },
   "outputs": [],
   "source": [
    "# Generate Dataframe\n",
    "df_primary_results = pd.read_sql_query('SELECT * FROM primary_results', db) #Primary Results \n",
    "df_county_facts = pd.read_sql_query('SELECT * FROM county_facts',db) #County Facts\n",
    "df_republicans = pd.read_sql_query('SELECT * FROM Republicans',db) # Republican Table\n",
    "df_democrats = pd.read_sql_query('SELECT * FROM Democrats', db) # Democrat Table\n",
    "\n",
    "#County Facts Dictionary:\n",
    "df_county_facts_dictionary = pd.read_sql_query('SELECT * FROM county_facts_dictionary ',db)"
   ]
  },
  {
   "cell_type": "code",
   "execution_count": 6,
   "metadata": {
    "collapsed": false,
    "scrolled": true
   },
   "outputs": [
    {
     "name": "stdout",
     "output_type": "stream",
     "text": [
      "Primary Results...\n",
      "Total Number of Elements = 13212; Republican: 9152, Democrat :4060\n",
      "Number of Features = 9\n",
      "\n",
      "County Facts...\n",
      "Total Number of Elements = 3143\n",
      "Number of Features = 51\n"
     ]
    }
   ],
   "source": [
    "#shape of tables:\n",
    "prim = df_primary_results.shape[0]\n",
    "rep = df_republicans.shape[0]\n",
    "dem = df_democrats.shape[0]\n",
    "print \"Primary Results...\"\n",
    "print \"Total Number of Elements = {}; Republican: {}, Democrat :{}\".format(prim,rep,dem)\n",
    "print \"Number of Features =\", df_primary_results.shape[1]\n",
    "\n",
    "#County Facts (shape):\n",
    "print \"\\nCounty Facts...\"\n",
    "print \"Total Number of Elements =\", df_county_facts.shape[0]\n",
    "print \"Number of Features =\", df_county_facts.shape[1] -4\n"
   ]
  },
  {
   "cell_type": "code",
   "execution_count": 9,
   "metadata": {
    "collapsed": false,
    "scrolled": true
   },
   "outputs": [
    {
     "name": "stdout",
     "output_type": "stream",
     "text": [
      "Done.\n",
      "Done.\n"
     ]
    },
    {
     "data": {
      "text/plain": [
       "[]"
      ]
     },
     "execution_count": 9,
     "metadata": {},
     "output_type": "execute_result"
    }
   ],
   "source": [
    "#Identify the Republican winner in each county:\n",
    "#%sql SELECT state, state_abbreviation, county, fips, party, candidate, MAX(votes), fraction_votes, county_state FROM Republicans GROUP BY county ORDER BY state;\n",
    "%sql CREATE TABLE Republican_Winner(state TEXT NOT NULL, state_abbreviation TEXT NOT NULL, county TEXT NOT NULL, fips INTEGER NOT NULL, party TEXT NOT NULL, candidate TEXT NOT NULL, votes INTEGER NOT NULL, fraction_votes INTEGER NOT NULL, county_state TEXT NOT NULL);\n",
    "#.import republican_winners.csv Republican_Winner\n",
    "\n",
    "#Identify the Democrat winner in each county:\n",
    "#%sql SELECT state, state_abbreviation, county, fips, party, candidate, MAX(votes), fraction_votes, county_state FROM Democrats GROUP BY county ORDER BY state;\n",
    "%sql CREATE TABLE Democrat_Winner(state TEXT NOT NULL, state_abbreviation TEXT NOT NULL, county TEXT NOT NULL, fips INTEGER NOT NULL, party TEXT NOT NULL, candidate TEXT NOT NULL, votes INTEGER NOT NULL, fraction_votes INTEGER NOT NULL, county_state TEXT NOT NULL);\n",
    "#.import democrat_winners.csv Democrat_Winner "
   ]
  },
  {
   "cell_type": "code",
   "execution_count": null,
   "metadata": {
    "collapsed": true
   },
   "outputs": [],
   "source": [
    "# Join Tables:\n",
    "%sql SELECT * FROM Republican_Winner INNER JOIN county_facts WHERE Republican_Winner.county_state = county_facts.county_state;\n",
    "%sql SELECT * FROM Democrat_Winner INNER JOIN county_facts WHERE Democrat_Winner.county_state = county_facts.county_state;"
   ]
  },
  {
   "cell_type": "code",
   "execution_count": 30,
   "metadata": {
    "collapsed": false
   },
   "outputs": [
    {
     "data": {
      "text/html": [
       "<div>\n",
       "<table border=\"1\" class=\"dataframe\">\n",
       "  <thead>\n",
       "    <tr style=\"text-align: right;\">\n",
       "      <th></th>\n",
       "      <th>state</th>\n",
       "      <th>county</th>\n",
       "      <th>fips</th>\n",
       "      <th>party</th>\n",
       "      <th>candidate</th>\n",
       "      <th>votes</th>\n",
       "      <th>fraction_votes</th>\n",
       "      <th>county_state</th>\n",
       "      <th>PST045214</th>\n",
       "      <th>PST040210</th>\n",
       "      <th>...</th>\n",
       "      <th>SBO415207</th>\n",
       "      <th>SBO015207</th>\n",
       "      <th>MAN450207</th>\n",
       "      <th>WTN220207</th>\n",
       "      <th>RTN130207</th>\n",
       "      <th>RTN131207</th>\n",
       "      <th>AFN120207</th>\n",
       "      <th>BPS030214</th>\n",
       "      <th>LND110210</th>\n",
       "      <th>POP060210</th>\n",
       "    </tr>\n",
       "  </thead>\n",
       "  <tbody>\n",
       "    <tr>\n",
       "      <th>0</th>\n",
       "      <td>Alabama</td>\n",
       "      <td>Autauga</td>\n",
       "      <td>1001</td>\n",
       "      <td>Republican</td>\n",
       "      <td>Donald_Trump</td>\n",
       "      <td>5387</td>\n",
       "      <td>0.445</td>\n",
       "      <td>Autauga_AL</td>\n",
       "      <td>55395</td>\n",
       "      <td>54571</td>\n",
       "      <td>...</td>\n",
       "      <td>0.7</td>\n",
       "      <td>31.7</td>\n",
       "      <td>0</td>\n",
       "      <td>0</td>\n",
       "      <td>598175</td>\n",
       "      <td>12003</td>\n",
       "      <td>88157</td>\n",
       "      <td>131</td>\n",
       "      <td>594.44</td>\n",
       "      <td>91.8</td>\n",
       "    </tr>\n",
       "    <tr>\n",
       "      <th>1</th>\n",
       "      <td>Alabama</td>\n",
       "      <td>Baldwin</td>\n",
       "      <td>1003</td>\n",
       "      <td>Republican</td>\n",
       "      <td>Donald_Trump</td>\n",
       "      <td>23618</td>\n",
       "      <td>0.469</td>\n",
       "      <td>Baldwin_AL</td>\n",
       "      <td>200111</td>\n",
       "      <td>182265</td>\n",
       "      <td>...</td>\n",
       "      <td>1.3</td>\n",
       "      <td>27.3</td>\n",
       "      <td>1410273</td>\n",
       "      <td>0</td>\n",
       "      <td>2966489</td>\n",
       "      <td>17166</td>\n",
       "      <td>436955</td>\n",
       "      <td>1384</td>\n",
       "      <td>1589.78</td>\n",
       "      <td>114.6</td>\n",
       "    </tr>\n",
       "    <tr>\n",
       "      <th>2</th>\n",
       "      <td>Alabama</td>\n",
       "      <td>Barbour</td>\n",
       "      <td>1005</td>\n",
       "      <td>Republican</td>\n",
       "      <td>Donald_Trump</td>\n",
       "      <td>1710</td>\n",
       "      <td>0.501</td>\n",
       "      <td>Barbour_AL</td>\n",
       "      <td>26887</td>\n",
       "      <td>27457</td>\n",
       "      <td>...</td>\n",
       "      <td>0.0</td>\n",
       "      <td>27.0</td>\n",
       "      <td>0</td>\n",
       "      <td>0</td>\n",
       "      <td>188337</td>\n",
       "      <td>6334</td>\n",
       "      <td>0</td>\n",
       "      <td>8</td>\n",
       "      <td>884.88</td>\n",
       "      <td>31.0</td>\n",
       "    </tr>\n",
       "    <tr>\n",
       "      <th>3</th>\n",
       "      <td>Alabama</td>\n",
       "      <td>Bullock</td>\n",
       "      <td>1011</td>\n",
       "      <td>Republican</td>\n",
       "      <td>Donald_Trump</td>\n",
       "      <td>313</td>\n",
       "      <td>0.565</td>\n",
       "      <td>Bullock_AL</td>\n",
       "      <td>10764</td>\n",
       "      <td>10915</td>\n",
       "      <td>...</td>\n",
       "      <td>0.0</td>\n",
       "      <td>38.8</td>\n",
       "      <td>0</td>\n",
       "      <td>0</td>\n",
       "      <td>43810</td>\n",
       "      <td>3995</td>\n",
       "      <td>3670</td>\n",
       "      <td>1</td>\n",
       "      <td>622.81</td>\n",
       "      <td>17.5</td>\n",
       "    </tr>\n",
       "    <tr>\n",
       "      <th>4</th>\n",
       "      <td>Alabama</td>\n",
       "      <td>Calhoun</td>\n",
       "      <td>1015</td>\n",
       "      <td>Republican</td>\n",
       "      <td>Donald_Trump</td>\n",
       "      <td>8960</td>\n",
       "      <td>0.451</td>\n",
       "      <td>Calhoun_AL</td>\n",
       "      <td>115916</td>\n",
       "      <td>118586</td>\n",
       "      <td>...</td>\n",
       "      <td>0.5</td>\n",
       "      <td>24.7</td>\n",
       "      <td>2679991</td>\n",
       "      <td>0</td>\n",
       "      <td>1542981</td>\n",
       "      <td>13678</td>\n",
       "      <td>186533</td>\n",
       "      <td>114</td>\n",
       "      <td>605.87</td>\n",
       "      <td>195.7</td>\n",
       "    </tr>\n",
       "  </tbody>\n",
       "</table>\n",
       "<p>5 rows × 59 columns</p>\n",
       "</div>"
      ],
      "text/plain": [
       "     state   county  fips       party     candidate  votes  fraction_votes  \\\n",
       "0  Alabama  Autauga  1001  Republican  Donald_Trump   5387           0.445   \n",
       "1  Alabama  Baldwin  1003  Republican  Donald_Trump  23618           0.469   \n",
       "2  Alabama  Barbour  1005  Republican  Donald_Trump   1710           0.501   \n",
       "3  Alabama  Bullock  1011  Republican  Donald_Trump    313           0.565   \n",
       "4  Alabama  Calhoun  1015  Republican  Donald_Trump   8960           0.451   \n",
       "\n",
       "  county_state  PST045214  PST040210    ...      SBO415207  SBO015207  \\\n",
       "0   Autauga_AL      55395      54571    ...            0.7       31.7   \n",
       "1   Baldwin_AL     200111     182265    ...            1.3       27.3   \n",
       "2   Barbour_AL      26887      27457    ...            0.0       27.0   \n",
       "3   Bullock_AL      10764      10915    ...            0.0       38.8   \n",
       "4   Calhoun_AL     115916     118586    ...            0.5       24.7   \n",
       "\n",
       "   MAN450207  WTN220207  RTN130207  RTN131207  AFN120207  BPS030214  \\\n",
       "0          0          0     598175      12003      88157        131   \n",
       "1    1410273          0    2966489      17166     436955       1384   \n",
       "2          0          0     188337       6334          0          8   \n",
       "3          0          0      43810       3995       3670          1   \n",
       "4    2679991          0    1542981      13678     186533        114   \n",
       "\n",
       "   LND110210  POP060210  \n",
       "0     594.44       91.8  \n",
       "1    1589.78      114.6  \n",
       "2     884.88       31.0  \n",
       "3     622.81       17.5  \n",
       "4     605.87      195.7  \n",
       "\n",
       "[5 rows x 59 columns]"
      ]
     },
     "execution_count": 30,
     "metadata": {},
     "output_type": "execute_result"
    }
   ],
   "source": [
    "#Dataframe for Republican winners per county w/ county facts:\n",
    "republican_data = pd.read_csv(\"republican_winners_county_facts.csv\")\n",
    "republican_data.drop(republican_data.columns[[1,9,10,11,63]], axis=1, inplace=True) #Drop repeated rows\n",
    "\n",
    "#Dataframe for Democrat winners per county w/ county facts:\n",
    "democrat_data = pd.read_csv(\"democrat_winners_county_facts.csv\") \n",
    "democrat_data.drop(democrat_data.columns[[1,9,10,11,63]], axis=1, inplace=True) #Drop repeated rows\n",
    "\n",
    "republican_data.head()"
   ]
  },
  {
   "cell_type": "code",
   "execution_count": 129,
   "metadata": {
    "collapsed": false
   },
   "outputs": [
    {
     "data": {
      "text/plain": [
       "<matplotlib.axes._subplots.AxesSubplot at 0x11691ded0>"
      ]
     },
     "execution_count": 129,
     "metadata": {},
     "output_type": "execute_result"
    },
    {
     "data": {
      "image/png": "[encoded data removed]",
      "text/plain": [
       "<matplotlib.figure.Figure at 0x117275390>"
      ]
     },
     "metadata": {},
     "output_type": "display_data"
    }
   ],
   "source": [
    "#Features:\n",
    "rep_features_cols = list(republican_data.columns[8:])\n",
    "rep_features = republican_data[rep_features_cols]\n",
    "#Target: candidate winner\n",
    "rep_target_col = republican_data.columns[4]\n",
    "rep_target = republican_data[rep_target_col] \n",
    "\n",
    "#print rep_features.head()\n",
    "#print rep_target.head()\n",
    "\n",
    "republican_data.plot.scatter(x='PST045214', y='RTN131207', figsize=(12,10), s=republican_data['fraction_votes']*100)"
   ]
  },
  {
   "cell_type": "code",
   "execution_count": null,
   "metadata": {
    "collapsed": true
   },
   "outputs": [],
   "source": []
  }
 ],
 "metadata": {
  "kernelspec": {
   "display_name": "Python 2",
   "language": "python",
   "name": "python2"
  },
  "language_info": {
   "codemirror_mode": {
    "name": "ipython",
    "version": 2
   },
   "file_extension": ".py",
   "mimetype": "text/x-python",
   "name": "python",
   "nbconvert_exporter": "python",
   "pygments_lexer": "ipython2",
   "version": "2.7.11"
  }
 },
 "nbformat": 4,
 "nbformat_minor": 0
}
