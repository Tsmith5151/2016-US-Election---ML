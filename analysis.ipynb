{
 "cells": [
  {
   "cell_type": "markdown",
   "metadata": {},
   "source": [
    "# Capstone Project\n",
    "\n",
    "### 2016 U.S. POTUS Primary Election"
   ]
  },
  {
   "cell_type": "code",
   "execution_count": null,
   "metadata": {
    "collapsed": false,
    "scrolled": false
   },
   "outputs": [],
   "source": [
    "import sys\n",
    "import pandas as pd\n",
    "#pd.set_option('display.max_rows', 1300)\n",
    "import numpy as np\n",
    "import matplotlib.pyplot as pl\n",
    "import networkx as nx\n",
    "import pygraphviz\n",
    "import seaborn as sns\n",
    "import sqlite3\n",
    "import time\n",
    "import pydot\n",
    "import os\n",
    "\n",
    "from sklearn.metrics import confusion_matrix\n",
    "from sklearn.decomposition import PCA\n",
    "from sklearn import preprocessing\n",
    "from sklearn.metrics import f1_score, accuracy_score\n",
    "from sklearn.cross_validation import StratifiedShuffleSplit\n",
    "from sklearn.ensemble import RandomForestClassifier\n",
    "from sklearn.tree import DecisionTreeClassifier\n",
    "from sklearn.grid_search import GridSearchCV\n",
    "from sklearn import tree\n",
    "from sklearn.externals.six import StringIO  \n",
    "from IPython.display import Image \n",
    "from sklearn.tree import export_graphviz\n",
    "from StringIO import StringIO\n",
    "from io import BytesIO\n",
    "\n",
    "%matplotlib inline\n",
    "\n",
    "import warnings\n",
    "warnings.filterwarnings('ignore')"
   ]
  },
  {
   "cell_type": "code",
   "execution_count": null,
   "metadata": {
    "collapsed": false
   },
   "outputs": [],
   "source": [
    "%sqlite_execute "
   ]
  },
  {
   "cell_type": "code",
   "execution_count": null,
   "metadata": {
    "collapsed": false
   },
   "outputs": [],
   "source": [
    "%load_ext sql"
   ]
  },
  {
   "cell_type": "code",
   "execution_count": null,
   "metadata": {
    "collapsed": false,
    "scrolled": false
   },
   "outputs": [],
   "source": [
    "%load_ext sql\n",
    "%sql sqlite:///database.sqlite\n",
    "try:    \n",
    "    db = sqlite3.connect('database.sqlite')\n",
    "    c = db.cursor()\n",
    "    print \"Successfully connected to the database\"\n",
    "except IntegrityError:\n",
    "    print\"Did not successfully connect to database\""
   ]
  },
  {
   "cell_type": "markdown",
   "metadata": {},
   "source": [
    "### SQL Commands:"
   ]
  },
  {
   "cell_type": "code",
   "execution_count": null,
   "metadata": {
    "collapsed": false,
    "scrolled": false
   },
   "outputs": [],
   "source": [
    "%sql SELECT * FROM primary_results\n",
    "\n",
    "%sql ALTER TABLE primary_results ADD COLUMN county_state TEXT;\n",
    "%sql UPDATE primary_results SET county_state = (county || \"_\" || state_abbreviation);\n",
    "%sql UPDATE primary_results SET candidate = Replace(candidate,' ','_');\n",
    "\n",
    "'''Create Republican Table:'''\n",
    "%sql CREATE TABLE Republicans AS SELECT * FROM primary_results;\n",
    "%sql DELETE FROM Republicans WHERE(party ='Democrat') \n",
    "\n",
    "'''Create Democrat Table:'''\n",
    "%sql CREATE TABLE Democrats AS SELECT * FROM primary_results;\n",
    "%sql DELETE FROM Democrats WHERE(party ='Republican') \n",
    "\n",
    "'''Update County Facts Table:'''\n",
    "%sql UPDATE county_facts SET state_abbreviation = NULL WHERE state_abbreviation = '';\n",
    "%sql DELETE FROM county_facts WHERE state_abbreviation IS NULL;\n",
    "%sql ALTER TABLE county_facts ADD COLUMN county_state TEXT;\n",
    "%sql UPDATE county_facts SET area_name = SUBSTR(area_name,1, LENGTH(area_name)-7);\n",
    "%sql UPDATE county_facts SET county_state = (area_name || \"_\" || state_abbreviation);\n",
    "%sql UPDATE county_facts SET county_state = REPLACE(county_state,'\"','');\n",
    "\n",
    "#Output County_Facts_Description as CSV file (.mode csv)\n",
    "#%sql .output county_facts_dict.csv # command in terminal\n",
    "\n",
    "\n",
    "'''SQL TABLES FOR TO GROUP WINNER OF EACH COUNTY:'''\n",
    "\n",
    "#Identify the Republican winner in each county:\n",
    "%sql SELECT state, state_abbreviation, county, fips, party, candidate, MAX(votes), fraction_votes, county_state FROM Republicans GROUP BY county ORDER BY state;\n",
    "%sql CREATE TABLE Republican_Winner(state TEXT NOT NULL, state_abbreviation TEXT NOT NULL, county TEXT NOT NULL, fips INTEGER NOT NULL, party TEXT NOT NULL, candidate TEXT NOT NULL, votes INTEGER NOT NULL, fraction_votes INTEGER NOT NULL, county_state TEXT NOT NULL);\n",
    "#.import republican_winners.csv Republican_Winner\n",
    "\n",
    "#Identify the Democrat winner in each county:\n",
    "%sql SELECT state, state_abbreviation, county, fips, party, candidate, MAX(votes), fraction_votes, county_state FROM Democrats GROUP BY county ORDER BY state;\n",
    "%sql CREATE TABLE Democrat_Winner(state TEXT NOT NULL, state_abbreviation TEXT NOT NULL, county TEXT NOT NULL, fips INTEGER NOT NULL, party TEXT NOT NULL, candidate TEXT NOT NULL, votes INTEGER NOT NULL, fraction_votes INTEGER NOT NULL, county_state TEXT NOT NULL);\n",
    "#.import democrat_winners.csv Democrat_Winner \n",
    "\n",
    "# Join Tables (county_facts and Republican/Democrat winner)\n",
    "%sql SELECT * FROM Republican_Winner INNER JOIN county_facts WHERE Republican_Winner.county_state = county_facts.county_state;\n",
    "%sql SELECT * FROM Democrat_Winner INNER JOIN county_facts WHERE Democrat_Winner.county_state = county_facts.county_state;"
   ]
  },
  {
   "cell_type": "markdown",
   "metadata": {},
   "source": [
    "### Explore Data:"
   ]
  },
  {
   "cell_type": "code",
   "execution_count": null,
   "metadata": {
    "collapsed": false,
    "scrolled": false
   },
   "outputs": [],
   "source": [
    "# Generate Dataframe\n",
    "df_primary_results = pd.read_sql_query('SELECT * FROM primary_results', db) #Primary Results \n",
    "df_county_facts = pd.read_sql_query('SELECT * FROM county_facts',db) #County Facts\n",
    "df_republicans = pd.read_sql_query('SELECT * FROM Republicans',db) # Republican Table\n",
    "df_democrats = pd.read_sql_query('SELECT * FROM Democrats', db) # Democrat Table\n",
    "\n",
    "#County Facts Dictionary:\n",
    "df_county_facts_dictionary = pd.read_sql_query('SELECT * FROM county_facts_dictionary ',db)"
   ]
  },
  {
   "cell_type": "code",
   "execution_count": null,
   "metadata": {
    "collapsed": false,
    "scrolled": true
   },
   "outputs": [],
   "source": [
    "# Primary results\n",
    "df_primary_results.head()"
   ]
  },
  {
   "cell_type": "code",
   "execution_count": null,
   "metadata": {
    "collapsed": false,
    "scrolled": false
   },
   "outputs": [],
   "source": [
    "# County Facts data\n",
    "df_county_facts.head()"
   ]
  },
  {
   "cell_type": "code",
   "execution_count": null,
   "metadata": {
    "collapsed": false,
    "scrolled": false
   },
   "outputs": [],
   "source": [
    "#shape of tables:\n",
    "prim = df_primary_results.shape[0]\n",
    "rep = df_republicans.shape[0]\n",
    "dem = df_democrats.shape[0]\n",
    "print \"Primary Results...\"\n",
    "print \"Total Number of Elements = {}; Republican: {}, Democrat :{}\".format(prim,rep,dem)\n",
    "print \"Number of Features =\", df_primary_results.shape[1]\n",
    "\n",
    "#County Facts (shape):\n",
    "print \"\\nCounty Facts...:\"\n",
    "print \"Total Number of Elements =\", df_county_facts.shape[0]\n",
    "print \"Number of Features =\", df_county_facts.shape[1] -4\n"
   ]
  },
  {
   "cell_type": "markdown",
   "metadata": {},
   "source": [
    "## Summary of Primary Results"
   ]
  },
  {
   "cell_type": "code",
   "execution_count": null,
   "metadata": {
    "collapsed": false,
    "scrolled": false
   },
   "outputs": [],
   "source": [
    "votes_sum = pd.read_sql_query('SELECT candidate, party, sum(votes) as sum_votes \\\n",
    "    FROM primary_results GROUP BY candidate, party ORDER BY sum_votes desc, party;',db)\n",
    "#Candidate who suspended campaign: (drop from df)\n",
    "to_del = votes_sum.loc[votes_sum['candidate'].isin(['Jeb_Bush', 'Ben_Carson','Rand_Paul',\n",
    "    'Chris_Christie','Carly_Fiorina','Rick_Santorum','Mike_Huckabee',\n",
    "    \"Martin_O'Malley\",'Marco_Rubio','_No_Preference','_Uncommitted'])].index.tolist()\n",
    "votes = votes_sum.drop(to_del)\n",
    "\n",
    "#Plots\n",
    "sns.plt.figure(figsize=(10,6))\n",
    "sns.barplot(y = 'candidate', x = 'sum_votes', data = votes, palette = \"BuGn_r\")\n",
    "sns.plt.title('Total Votes per Candidate - Remaining', fontsize = 18)\n",
    "\n",
    "sns.plt.figure(figsize=(10,6))\n",
    "sns.barplot(y = 'candidate', x = 'sum_votes', data = votes_sum, palette = \"BuGn_r\")\n",
    "sns.plt.title('Total Votes per Candidate - All', fontsize = 18)"
   ]
  },
  {
   "cell_type": "code",
   "execution_count": null,
   "metadata": {
    "collapsed": false,
    "scrolled": true
   },
   "outputs": [],
   "source": [
    "# republican winner by county:\n",
    "rep_winner_county = pd.read_sql_query('SELECT candidate, count(candidate) \\\n",
    "    as count_county FROM Republican_Winner GROUP BY candidate ORDER BY count_county desc', db)\n",
    "# democrat winner by county:\n",
    "dem_winner_county = pd.read_sql_query('SELECT candidate, count(candidate) \\\n",
    "    as count_county FROM Democrat_Winner GROUP BY candidate ORDER BY count_county desc', db)\n",
    "\n",
    "#plots\n",
    "sns.plt.figure(figsize=(10,6))\n",
    "sns.barplot(x = 'candidate', y = 'count_county', data = rep_winner_county, palette=\"PuBuGn_d\")\n",
    "sns.plt.title('Total Republican Primary Counties Won', fontsize = 18)\n",
    "\n",
    "sns.plt.figure(figsize=(10,6))\n",
    "sns.barplot(x = 'candidate', y = 'count_county', data = dem_winner_county, palette=\"PuBuGn_d\")\n",
    "sns.plt.title('Total Democrat Primary Counties Won', fontsize = 18)\n"
   ]
  },
  {
   "cell_type": "markdown",
   "metadata": {},
   "source": [
    "# Republican Party:"
   ]
  },
  {
   "cell_type": "code",
   "execution_count": null,
   "metadata": {
    "collapsed": false,
    "scrolled": true
   },
   "outputs": [],
   "source": [
    "#Dataframe for Republican winners per county w/ county facts:\n",
    "republican_data = pd.read_csv(\"republican_winners_county_facts.csv\")\n",
    "#drop repeated rows from merge\n",
    "republican_data.drop(republican_data.columns[[1,9,10,11,63]], axis=1, inplace=True)"
   ]
  },
  {
   "cell_type": "code",
   "execution_count": null,
   "metadata": {
    "collapsed": false,
    "scrolled": false
   },
   "outputs": [],
   "source": [
    "g = sns.lmplot(x=\"SEX255214\", y = \"fraction_votes\", data = republican_data, hue = \"candidate\", ci=False)\n",
    "g.set_xlabels(\"Sex\", size = 18)\n",
    "g.set_ylabels(\"Fraction Votes\", size = 18)\n",
    "g.set(xlim=(20,60), ylim=(0,1))\n",
    "sns.plt.title('Republican Winner', fontsize = 20)"
   ]
  },
  {
   "cell_type": "markdown",
   "metadata": {},
   "source": [
    "## Split Training/Testing Set"
   ]
  },
  {
   "cell_type": "code",
   "execution_count": null,
   "metadata": {
    "collapsed": false,
    "scrolled": true
   },
   "outputs": [],
   "source": [
    "# First, remove all rows wrt candidates who suspended campaign:\n",
    "to_del = republican_data.loc[republican_data['candidate'].isin(['Jeb_Bush', 'Ben_Carson','Rand_Paul','Chris_Christie','Carly_Fiorina','Rick_Santorum','Mike_Huckabee',\"Marco_Rubio\",\"_No_Preference\",\"_Uncommitted\"])].index.tolist()\n",
    "republican_data = republican_data.drop(to_del)\n",
    "\n",
    "# Arranging Data for Features & Targets\n",
    "#republican_data = republican_data.replace(['Donald_Trump','Ted_Cruz','John_Kasich'],[1,2,3])\n",
    "\n",
    "x_vars = list(republican_data.columns[8:]) \n",
    "x_vars= republican_data[x_vars] # Features\n",
    "y_vars = republican_data['candidate'] # Target Labels\n",
    "df_rep = pd.concat([x_vars,y_vars],axis=1) #combine Feautres/Target into one dataframe\n",
    "\n",
    "feature_cols = list(df_rep.columns[:-1])  # all columns but last are features\n",
    "target_col = df_rep.columns[-1]  # last column is the target/label\n",
    "\n",
    "X_all = df_rep[feature_cols]  # feature values \n",
    "y_all = df_rep[target_col]  # corresponding targets/labels\n"
   ]
  },
  {
   "cell_type": "code",
   "execution_count": null,
   "metadata": {
    "collapsed": false,
    "scrolled": true
   },
   "outputs": [],
   "source": [
    "num_all = df_rep.shape[0]\n",
    "num_train = int(num_all - (num_all*.25))\n",
    "num_test = num_all - num_train\n",
    "\n",
    "def Stratified_Shuffle_Split(X,y,num_test):\n",
    "    sss = StratifiedShuffleSplit(y, 10, test_size=num_test, random_state = 42)\n",
    "    for train_index, test_index in sss:\n",
    "        X_train, X_test = X.iloc[train_index], X.iloc[test_index]\n",
    "        y_train, y_test = y.iloc[train_index], y.iloc[test_index]\n",
    "    return X_train, X_test, y_train, y_test\n",
    "    \n",
    "X_train, X_test, y_train, y_test = Stratified_Shuffle_Split(X_all, y_all, num_test)\n",
    "print \"Training Set: {0:.2f} Samples\".format(X_train.shape[0])\n",
    "print \"Testing Set: {0:.2f} Samples\".format(X_test.shape[0])\n"
   ]
  },
  {
   "cell_type": "markdown",
   "metadata": {},
   "source": [
    "## Random Forest"
   ]
  },
  {
   "cell_type": "code",
   "execution_count": null,
   "metadata": {
    "collapsed": true,
    "scrolled": true
   },
   "outputs": [],
   "source": [
    "def train_classifier(clf, X_train, y_train):\n",
    "    print \"{}:\".format(clf.__class__.__name__)\n",
    "    start = time.time()\n",
    "    clf.fit(X_train, y_train)\n",
    "    end = time.time()\n",
    "    train_clf_time = end - start\n",
    "    print \"Training Time (secs): {:.3f}\".format(train_clf_time)\n",
    "    return train_clf_time\n",
    "\n",
    "def predict_labels(clf, features, target):\n",
    "    start = time.time()\n",
    "    y_pred = clf.predict(features)\n",
    "    end = time.time()\n",
    "    prediction_time = end - start\n",
    "    print \"Prediction Time (secs): {:.3f}\".format(prediction_time)\n",
    "    return (f1_score(target.values, y_pred, pos_label= None, average = 'weighted'), prediction_time)\n",
    "\n",
    "# Train and Predict\n",
    "def train_predict(clf, X_train, y_train, X_test, y_test):\n",
    "    print \"------------------------------------------\"\n",
    "    train_diff = train_classifier(clf, X_train, y_train)\n",
    "    \n",
    "    # Train and predict training set:\n",
    "    f1_score_train, pred_time_train = predict_labels(clf, X_train, y_train)\n",
    "    print \"F1 score for TRAINING set:\",(f1_score_train)\n",
    "    # Predict on test data set:\n",
    "    f1_score_test, pred_time_test = predict_labels(clf, X_test, y_test)\n",
    "    print \"F1 score for TEST set:\",(f1_score_test)\n",
    "    \n",
    "    return (f1_score_train, f1_score_test, train_diff, pred_time_test)\n"
   ]
  },
  {
   "cell_type": "code",
   "execution_count": null,
   "metadata": {
    "collapsed": false
   },
   "outputs": [],
   "source": [
    "clf_RF = RandomForestClassifier(n_estimators=10)\n",
    "\n",
    "def run_all_models(classifiers):\n",
    "    names = feature_cols\n",
    "    #df_c = pd.DataFrame()\n",
    "    for clf in classifiers:\n",
    "        df = pd.DataFrame(columns = [\n",
    "                    'Training_Size',\n",
    "                    'Testing_Size',\n",
    "                    'Training_Time',\n",
    "                    'Prediction_Time',\n",
    "                    'F1_Score_Training',\n",
    "                    'F1_Score_Testing'])\n",
    "\n",
    "        X_train, X_test, y_train, y_test = Stratified_Shuffle_Split(X_all, y_all, num_test)\n",
    "        \n",
    "        num_times_to_run = 2\n",
    "        sizes = [X_test.shape[0]]\n",
    "        for size in sizes: \n",
    "            for x in range(0, num_times_to_run): \n",
    "                f1_score_train, f1_score_test, train_time, pred_time_test = train_predict(clf, X_train[:size], y_train[:size], X_test, y_test)\n",
    "        \n",
    "                '''Confusion Matrix: Testing Set'''\n",
    "                y_pred = clf.fit(X_train, y_train).predict(X_test)\n",
    "                cm = confusion_matrix(y_test, y_pred)\n",
    "                print \"\\nConfusion Matrix:\"\n",
    "                print cm\n",
    "\n",
    "                #Feature Importance:\n",
    "                feature_imp = sorted(zip(map(lambda x: round(x, 4), clf.feature_importances_), names), \n",
    "                reverse=True)      \n",
    "                df = df.append({\n",
    "                        'Training_Size': len(X_train[:size]),\n",
    "                        'Testing_Size': X_test.shape[0],\n",
    "                        'Training_Time': train_time,\n",
    "                        'Prediction_Time': pred_time_test,\n",
    "                        'F1_Score_Training': f1_score_train,\n",
    "                        'F1_Score_Testing': f1_score_test}, \n",
    "                        ignore_index= True)\n",
    "            \n",
    "            #Feature Importance\n",
    "            columns = ['Importance','Feature']\n",
    "            df_imp = pd.DataFrame(feature_imp, columns = columns)\n",
    "            \n",
    "            #mean statistics:\n",
    "            df = df[(df.Training_Size == size)]\n",
    "            df_mean = df.mean()\n",
    "            \n",
    "            print \"**********************************************************\"\n",
    "            print \"Mean Statistics:\"\n",
    "            print df_mean\n",
    "            print \"**********************************************************\"\n",
    "            print \"Feature Importance:\"\n",
    "            print df_imp\n",
    "            print \"**********************************************************\"\n",
    "    \n",
    "    pl.figure\n",
    "    feature_plot(df_imp)\n",
    "        \n",
    "def feature_plot(df_imp):\n",
    "    ax = df_imp.plot(x='Feature', y='Importance',kind='bar'\n",
    "        ,figsize=(15,10), color= 'b',\n",
    "        alpha= 0.8, legend=True)\n",
    "    ax.set_title('Feature Importance', fontsize = 24)\n",
    "    ax.set_ylabel('Importance', fontsize= 16)\n",
    "    ax.set_xlabel('Feature',fontsize= 16)\n",
    "    pl.show()"
   ]
  },
  {
   "cell_type": "code",
   "execution_count": null,
   "metadata": {
    "collapsed": false,
    "scrolled": true
   },
   "outputs": [],
   "source": [
    "run_all_models([clf_RF])"
   ]
  },
  {
   "cell_type": "markdown",
   "metadata": {},
   "source": [
    "## Fine Tune Model:"
   ]
  },
  {
   "cell_type": "code",
   "execution_count": 142,
   "metadata": {
    "collapsed": false,
    "scrolled": true
   },
   "outputs": [],
   "source": [
    "def iterate_fit_predict(number_runs):\n",
    "    f1_scores = []\n",
    "    \n",
    "    for num in range(0, number_runs):\n",
    "        X_train, X_test, y_train, y_test = Stratified_Shuffle_Split(X_all, y_all, num_test)\n",
    "        parameters = {'max_depth':(1,2,3,4,5,6,7,8,9,10)}\n",
    "        clf_GS = GridSearchCV(clf_RF, parameters, scoring = 'f1')\n",
    "        \n",
    "        '''Confusion Matrix: Testing Set'''\n",
    "        y_pred = clf_GS.fit(X_train, y_train).predict(X_test)\n",
    "        cm = confusion_matrix(y_test, y_pred)\n",
    "        np.set_printoptions(precision=2)\n",
    "        pl.figure()\n",
    "        plot_confusion_matrix(cm, title='Confusion Matrix')\n",
    "        \n",
    "        #Fit classifier to training data:\n",
    "        clf_GS.fit(X_train,y_train)\n",
    "        f1_scores.append(clf_GS.score(X_test,y_test))\n",
    "        #clf = clf.best_estimator_s\n",
    "    \n",
    "    df_f1 = pd.Series(f1_scores)\n",
    "    print clf_GS\n",
    "    print \"\\nF1 Scores:\"\n",
    "    print round(df_f1,4)\n",
    "    \n",
    "    print \"\\n Average F1 Test Scores:\"\n",
    "    print round(df_f1.mean(),4)\n",
    "    \n",
    "    print \"\\n Confusion Matrix:\"\n",
    "    print cm\n",
    "    \n",
    "def plot_confusion_matrix(cm, title='Confusion Matrix', cmap=pl.cm.Blues):\n",
    "    names = ['Trump','Cruz','Kasich']\n",
    "    pl.imshow(cm, interpolation='nearest', cmap=cmap)\n",
    "    pl.title(title, fontsize =20)\n",
    "    pl.colorbar()\n",
    "    tick_marks = np.arange(len(names))\n",
    "    pl.xticks(tick_marks,names, rotation=45)\n",
    "    pl.yticks(tick_marks,names)\n",
    "    pl.tight_layout()\n",
    "    pl.ylabel('True label', fontsize =16)\n",
    "    pl.xlabel('Predicted label', fontsize =16)\n",
    " "
   ]
  },
  {
   "cell_type": "code",
   "execution_count": 143,
   "metadata": {
    "collapsed": false,
    "scrolled": true
   },
   "outputs": [
    {
     "name": "stdout",
     "output_type": "stream",
     "text": [
      "GridSearchCV(cv=None, error_score='raise',\n",
      "       estimator=RandomForestClassifier(bootstrap=True, class_weight=None, criterion='gini',\n",
      "            max_depth=None, max_features='auto', max_leaf_nodes=None,\n",
      "            min_samples_leaf=1, min_samples_split=2,\n",
      "            min_weight_fraction_leaf=0.0, n_estimators=10, n_jobs=1,\n",
      "            oob_score=False, random_state=None, verbose=0,\n",
      "            warm_start=False),\n",
      "       fit_params={}, iid=True, n_jobs=1,\n",
      "       param_grid={'max_depth': (1, 2, 3, 4, 5, 6, 7, 8, 9, 10)},\n",
      "       pre_dispatch='2*n_jobs', refit=True, scoring='f1', verbose=0)\n",
      "\n",
      "F1 Scores:\n",
      "0.7986\n",
      "\n",
      " Average F1 Test Scores:\n",
      "0.7986\n",
      "\n",
      " Confusion Matrix:\n",
      "[[161   1  15]\n",
      " [  8   1   1]\n",
      " [ 36   1  59]]\n"
     ]
    },
    {
     "data": {
      "image/png": "[encoded data removed]",
      "text/plain": [
       "<matplotlib.figure.Figure at 0x119208550>"
      ]
     },
     "metadata": {},
     "output_type": "display_data"
    }
   ],
   "source": [
    "iterate_fit_predict(1)"
   ]
  },
  {
   "cell_type": "markdown",
   "metadata": {},
   "source": [
    "## Decision Tree - Classification"
   ]
  },
  {
   "cell_type": "code",
   "execution_count": 202,
   "metadata": {
    "collapsed": false,
    "scrolled": false
   },
   "outputs": [],
   "source": [
    "# Replace candidate value with name:\n",
    "#df_rep.ix[df_rep.candidate == 1, 'candidate'] = 'Donald_Trump'\n",
    "#df_rep.ix[df_rep.candidate == 2, 'candidate'] = 'Ted_Cruz'\n",
    "#df_rep.ix[df_rep.candidate == 3, 'candidate'] = 'John_Kasich'\n",
    "#Decision Tree Data Frame\n",
    "df_rep_dt = df_rep\n",
    "#df_rep_dt.drop('candidate',axis=1,inplace = True)\n",
    "\n",
    "\n",
    "list_of_dic = df_rep_dt.T.to_dict().values()\n",
    "from sklearn.feature_extraction import DictVectorizer\n",
    "vec = DictVectorizer()\n",
    "vec.fit_transform(list_of_dic).toarray()\n",
    "feature_names = vec.get_feature_names()\n",
    "\n"
   ]
  },
  {
   "cell_type": "code",
   "execution_count": 207,
   "metadata": {
    "collapsed": false
   },
   "outputs": [],
   "source": [
    "from sklearn import tree\n",
    "from sklearn.datasets import load_iris\n",
    "from IPython.display import Image \n",
    "import os\n",
    "\n",
    "\n",
    "target_names = ['Donald_Trump','Ted_Cruz','John_Kasich']\n",
    "\n",
    "clf = tree.DecisionTreeClassifier(min_samples_split=20,min_samples_leaf=20)\n",
    "clf = clf.fit(X_train, y_train)\n",
    "\n",
    "def create_tree(clf):\n",
    "    with open(\"tree.dot\", 'w') as f:\n",
    "        f = tree.export_graphviz(clf, out_file=f)\n",
    "        \n",
    "    os.unlink('tree.dot')\n",
    "    \n",
    "    dot_data = StringIO() \n",
    "    tree.export_graphviz(clf, out_file=dot_data,feature_names=vec.get_feature_names(),  \n",
    "                             class_names=target_names) \n",
    "    graph = pydot.graph_from_dot_data(dot_data.getvalue()) \n",
    "    graph.write_pdf(\"tree.pdf\") \n",
    "\n",
    "\n",
    "    dot_data = StringIO()  \n",
    "    tree.export_graphviz(clf, out_file=dot_data,  \n",
    "                             feature_names=vec.get_feature_names(),  \n",
    "                             class_names=target_names,  \n",
    "                             filled=True, rounded=True,  \n",
    "                             special_characters=True)  \n",
    "    graph = pydot.graph_from_dot_data(dot_data.getvalue())  \n",
    "    Image(graph.create_png()) \n"
   ]
  },
  {
   "cell_type": "code",
   "execution_count": 208,
   "metadata": {
    "collapsed": false
   },
   "outputs": [
    {
     "name": "stdout",
     "output_type": "stream",
     "text": [
      "Apr 14 01:47:10 Trace-Smiths-MacBook-Pro.local dot[1039] <Error>: The function ‘CGFontGetGlyphPath’ is obsolete and will be removed in an upcoming update. Unfortunately, this application, or a library it uses, is using this obsolete function, and is thereby contributing to an overall degradation of system performance.\n",
      "Apr 14 01:47:10 Trace-Smiths-MacBook-Pro.local dot[1039] <Error>: The function ‘CGFontGetGlyphPaths’ is obsolete and will be removed in an upcoming update. Unfortunately, this application, or a library it uses, is using this obsolete function, and is thereby contributing to an overall degradation of system performance.\n",
      "\n"
     ]
    }
   ],
   "source": [
    "create_tree(clf)"
   ]
  },
  {
   "cell_type": "code",
   "execution_count": null,
   "metadata": {
    "collapsed": true
   },
   "outputs": [],
   "source": []
  }
 ],
 "metadata": {
  "kernelspec": {
   "display_name": "Python 2",
   "language": "python",
   "name": "python2"
  },
  "language_info": {
   "codemirror_mode": {
    "name": "ipython",
    "version": 2
   },
   "file_extension": ".py",
   "mimetype": "text/x-python",
   "name": "python",
   "nbconvert_exporter": "python",
   "pygments_lexer": "ipython2",
   "version": "2.7.11"
  }
 },
 "nbformat": 4,
 "nbformat_minor": 0
}
