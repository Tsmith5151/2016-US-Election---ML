{
 "cells": [
  {
   "cell_type": "markdown",
   "metadata": {},
   "source": [
    "# Capstone Project: \n",
    "\n",
    "### 2016 U.S. POTUS Primary Election"
   ]
  },
  {
   "cell_type": "code",
   "execution_count": 258,
   "metadata": {
    "collapsed": false,
    "scrolled": false
   },
   "outputs": [],
   "source": [
    "import sys\n",
    "import pandas as pd\n",
    "#pd.set_option('display.max_rows', 1300)\n",
    "import numpy as np\n",
    "import matplotlib.pyplot as pl\n",
    "import networkx as nx\n",
    "import pygraphviz\n",
    "import seaborn as sns\n",
    "import sqlite3\n",
    "import time\n",
    "import pydot\n",
    "import os\n",
    "\n",
    "from sklearn.metrics import confusion_matrix\n",
    "from sklearn.decomposition import PCA\n",
    "from sklearn import preprocessing\n",
    "from sklearn.metrics import f1_score, accuracy_score\n",
    "from sklearn.cross_validation import StratifiedShuffleSplit\n",
    "from sklearn.ensemble import RandomForestClassifier\n",
    "from sklearn.tree import DecisionTreeClassifier\n",
    "from sklearn.grid_search import GridSearchCV\n",
    "from sklearn import tree\n",
    "from sklearn.externals.six import StringIO  \n",
    "from IPython.display import Image \n",
    "from sklearn.tree import export_graphviz\n",
    "from StringIO import StringIO\n",
    "from io import BytesIO\n",
    "\n",
    "%matplotlib inline\n",
    "\n",
    "import warnings\n",
    "warnings.filterwarnings('ignore')"
   ]
  },
  {
   "cell_type": "code",
   "execution_count": null,
   "metadata": {
    "collapsed": false
   },
   "outputs": [],
   "source": [
    "%sqlite_execute "
   ]
  },
  {
   "cell_type": "code",
   "execution_count": null,
   "metadata": {
    "collapsed": false
   },
   "outputs": [],
   "source": [
    "%load_ext sql"
   ]
  },
  {
   "cell_type": "code",
   "execution_count": null,
   "metadata": {
    "collapsed": false,
    "scrolled": false
   },
   "outputs": [],
   "source": [
    "%load_ext sql\n",
    "%sql sqlite:///database.sqlite\n",
    "try:    \n",
    "    db = sqlite3.connect('database.sqlite')\n",
    "    c = db.cursor()\n",
    "    print \"Successfully connected to the database\"\n",
    "except IntegrityError:\n",
    "    print\"Did not successfully connect to database\""
   ]
  },
  {
   "cell_type": "markdown",
   "metadata": {},
   "source": [
    "### SQL Commands:"
   ]
  },
  {
   "cell_type": "code",
   "execution_count": null,
   "metadata": {
    "collapsed": false,
    "scrolled": false
   },
   "outputs": [],
   "source": [
    "%sql SELECT * FROM primary_results\n",
    "\n",
    "%sql ALTER TABLE primary_results ADD COLUMN county_state TEXT;\n",
    "%sql UPDATE primary_results SET county_state = (county || \"_\" || state_abbreviation);\n",
    "%sql UPDATE primary_results SET candidate = Replace(candidate,' ','_');\n",
    "\n",
    "'''Create Republican Table:'''\n",
    "%sql CREATE TABLE Republicans AS SELECT * FROM primary_results;\n",
    "%sql DELETE FROM Republicans WHERE(party ='Democrat') \n",
    "\n",
    "'''Create Democrat Table:'''\n",
    "%sql CREATE TABLE Democrats AS SELECT * FROM primary_results;\n",
    "%sql DELETE FROM Democrats WHERE(party ='Republican') \n",
    "\n",
    "'''Update County Facts Table:'''\n",
    "%sql UPDATE county_facts SET state_abbreviation = NULL WHERE state_abbreviation = '';\n",
    "%sql DELETE FROM county_facts WHERE state_abbreviation IS NULL;\n",
    "%sql ALTER TABLE county_facts ADD COLUMN county_state TEXT;\n",
    "%sql UPDATE county_facts SET area_name = SUBSTR(area_name,1, LENGTH(area_name)-7);\n",
    "%sql UPDATE county_facts SET county_state = (area_name || \"_\" || state_abbreviation);\n",
    "%sql UPDATE county_facts SET county_state = REPLACE(county_state,'\"','');\n",
    "\n",
    "#Output County_Facts_Description as CSV file (.mode csv)\n",
    "#%sql .output county_facts_dict.csv # command in terminal\n",
    "\n",
    "\n",
    "'''SQL TABLES FOR TO GROUP WINNER OF EACH COUNTY:'''\n",
    "\n",
    "#Identify the Republican winner in each county:\n",
    "%sql SELECT state, state_abbreviation, county, fips, party, candidate, MAX(votes), fraction_votes, county_state FROM Republicans GROUP BY county ORDER BY state;\n",
    "%sql CREATE TABLE Republican_Winner(state TEXT NOT NULL, state_abbreviation TEXT NOT NULL, county TEXT NOT NULL, fips INTEGER NOT NULL, party TEXT NOT NULL, candidate TEXT NOT NULL, votes INTEGER NOT NULL, fraction_votes INTEGER NOT NULL, county_state TEXT NOT NULL);\n",
    "#.import republican_winners.csv Republican_Winner\n",
    "\n",
    "#Identify the Democrat winner in each county:\n",
    "%sql SELECT state, state_abbreviation, county, fips, party, candidate, MAX(votes), fraction_votes, county_state FROM Democrats GROUP BY county ORDER BY state;\n",
    "%sql CREATE TABLE Democrat_Winner(state TEXT NOT NULL, state_abbreviation TEXT NOT NULL, county TEXT NOT NULL, fips INTEGER NOT NULL, party TEXT NOT NULL, candidate TEXT NOT NULL, votes INTEGER NOT NULL, fraction_votes INTEGER NOT NULL, county_state TEXT NOT NULL);\n",
    "#.import democrat_winners.csv Democrat_Winner \n",
    "\n",
    "# Join Tables (county_facts and Republican/Democrat winner)\n",
    "%sql SELECT * FROM Republican_Winner INNER JOIN county_facts WHERE Republican_Winner.county_state = county_facts.county_state;\n",
    "%sql SELECT * FROM Democrat_Winner INNER JOIN county_facts WHERE Democrat_Winner.county_state = county_facts.county_state;"
   ]
  },
  {
   "cell_type": "markdown",
   "metadata": {},
   "source": [
    "### Explore Data:"
   ]
  },
  {
   "cell_type": "code",
   "execution_count": null,
   "metadata": {
    "collapsed": false,
    "scrolled": false
   },
   "outputs": [],
   "source": [
    "# Generate Dataframe\n",
    "df_primary_results = pd.read_sql_query('SELECT * FROM primary_results', db) #Primary Results \n",
    "df_county_facts = pd.read_sql_query('SELECT * FROM county_facts',db) #County Facts\n",
    "df_republicans = pd.read_sql_query('SELECT * FROM Republicans',db) # Republican Table\n",
    "df_democrats = pd.read_sql_query('SELECT * FROM Democrats', db) # Democrat Table\n",
    "\n",
    "#County Facts Dictionary:\n",
    "df_county_facts_dictionary = pd.read_sql_query('SELECT * FROM county_facts_dictionary ',db)"
   ]
  },
  {
   "cell_type": "code",
   "execution_count": null,
   "metadata": {
    "collapsed": false,
    "scrolled": true
   },
   "outputs": [],
   "source": [
    "# Primary results\n",
    "df_primary_results.head()"
   ]
  },
  {
   "cell_type": "code",
   "execution_count": null,
   "metadata": {
    "collapsed": false,
    "scrolled": false
   },
   "outputs": [],
   "source": [
    "# County Facts data\n",
    "df_county_facts.head()"
   ]
  },
  {
   "cell_type": "code",
   "execution_count": null,
   "metadata": {
    "collapsed": false,
    "scrolled": false
   },
   "outputs": [],
   "source": [
    "#shape of tables:\n",
    "prim = df_primary_results.shape[0]\n",
    "rep = df_republicans.shape[0]\n",
    "dem = df_democrats.shape[0]\n",
    "print \"Primary Results...\"\n",
    "print \"Total Number of Elements = {}; Republican: {}, Democrat :{}\".format(prim,rep,dem)\n",
    "print \"Number of Features =\", df_primary_results.shape[1]\n",
    "\n",
    "#County Facts (shape):\n",
    "print \"\\nCounty Facts...:\"\n",
    "print \"Total Number of Elements =\", df_county_facts.shape[0]\n",
    "print \"Number of Features =\", df_county_facts.shape[1] -4\n"
   ]
  },
  {
   "cell_type": "markdown",
   "metadata": {},
   "source": [
    "## Summary of Primary Results"
   ]
  },
  {
   "cell_type": "code",
   "execution_count": null,
   "metadata": {
    "collapsed": false,
    "scrolled": false
   },
   "outputs": [],
   "source": [
    "votes_sum = pd.read_sql_query('SELECT candidate, party, sum(votes) as sum_votes \\\n",
    "    FROM primary_results GROUP BY candidate, party ORDER BY sum_votes desc, party;',db)\n",
    "#Candidate who suspended campaign: (drop from df)\n",
    "to_del = votes_sum.loc[votes_sum['candidate'].isin(['Jeb_Bush', 'Ben_Carson','Rand_Paul',\n",
    "    'Chris_Christie','Carly_Fiorina','Rick_Santorum','Mike_Huckabee',\n",
    "    \"Martin_O'Malley\",'Marco_Rubio','_No_Preference','_Uncommitted'])].index.tolist()\n",
    "votes = votes_sum.drop(to_del)\n",
    "\n",
    "#Plots\n",
    "sns.plt.figure(figsize=(10,6))\n",
    "sns.barplot(y = 'candidate', x = 'sum_votes', data = votes, palette = \"BuGn_r\")\n",
    "sns.plt.title('Total Votes per Candidate - Remaining', fontsize = 18)\n",
    "\n",
    "sns.plt.figure(figsize=(10,6))\n",
    "sns.barplot(y = 'candidate', x = 'sum_votes', data = votes_sum, palette = \"BuGn_r\")\n",
    "sns.plt.title('Total Votes per Candidate - All', fontsize = 18)"
   ]
  },
  {
   "cell_type": "code",
   "execution_count": null,
   "metadata": {
    "collapsed": false,
    "scrolled": true
   },
   "outputs": [],
   "source": [
    "# republican winner by county:\n",
    "rep_winner_county = pd.read_sql_query('SELECT candidate, count(candidate) \\\n",
    "    as count_county FROM Republican_Winner GROUP BY candidate ORDER BY count_county desc', db)\n",
    "# democrat winner by county:\n",
    "dem_winner_county = pd.read_sql_query('SELECT candidate, count(candidate) \\\n",
    "    as count_county FROM Democrat_Winner GROUP BY candidate ORDER BY count_county desc', db)\n",
    "\n",
    "#plots\n",
    "sns.plt.figure(figsize=(10,6))\n",
    "sns.barplot(x = 'candidate', y = 'count_county', data = rep_winner_county, palette=\"PuBuGn_d\")\n",
    "sns.plt.title('Total Republican Primary Counties Won', fontsize = 18)\n",
    "\n",
    "sns.plt.figure(figsize=(10,6))\n",
    "sns.barplot(x = 'candidate', y = 'count_county', data = dem_winner_county, palette=\"PuBuGn_d\")\n",
    "sns.plt.title('Total Democrat Primary Counties Won', fontsize = 18)\n"
   ]
  },
  {
   "cell_type": "markdown",
   "metadata": {},
   "source": [
    "# Republican Party:"
   ]
  },
  {
   "cell_type": "code",
   "execution_count": null,
   "metadata": {
    "collapsed": false,
    "scrolled": true
   },
   "outputs": [],
   "source": [
    "#Dataframe for Republican winners per county w/ county facts:\n",
    "republican_data = pd.read_csv(\"republican_winners_county_facts.csv\")\n",
    "#drop repeated rows from merge\n",
    "republican_data.drop(republican_data.columns[[1,9,10,11,63]], axis=1, inplace=True)"
   ]
  },
  {
   "cell_type": "code",
   "execution_count": null,
   "metadata": {
    "collapsed": false,
    "scrolled": false
   },
   "outputs": [],
   "source": [
    "g = sns.lmplot(x=\"SEX255214\", y = \"fraction_votes\", data = republican_data, hue = \"candidate\", ci=False)\n",
    "g.set_xlabels(\"Sex\", size = 18)\n",
    "g.set_ylabels(\"Fraction Votes\", size = 18)\n",
    "g.set(xlim=(20,60), ylim=(0,1))\n",
    "sns.plt.title('Republican Winner', fontsize = 20)\n",
    "\n",
    "g = sns.lmplot(x=\"RHI125214\", y = \"fraction_votes\", data = republican_data, hue = \"candidate\", ci=False)\n",
    "g.set_xlabels(\"White\", size = 18)\n",
    "g.set_ylabels(\"Fraction Votes\", size = 18)\n",
    "g.set(ylim=(0,1))\n",
    "sns.plt.title('Republican Winner', fontsize = 20)\n",
    "\n",
    "g = sns.lmplot(x=\"VET605213\", y = \"fraction_votes\", data = republican_data, hue = \"candidate\", ci=False)\n",
    "g.set_xlabels(\"Veterans\", size = 18)\n",
    "g.set_ylabels(\"Fraction Votes\", size = 18)\n",
    "g.set(ylim=(0,1))\n",
    "sns.plt.title('Republican Winner', fontsize = 20)\n"
   ]
  },
  {
   "cell_type": "markdown",
   "metadata": {},
   "source": [
    "## Split Training/Testing Set"
   ]
  },
  {
   "cell_type": "code",
   "execution_count": 246,
   "metadata": {
    "collapsed": false,
    "scrolled": true
   },
   "outputs": [],
   "source": [
    "# First, remove all rows wrt candidates who suspended campaign:\n",
    "to_del = republican_data.loc[republican_data['candidate'].isin(['Jeb_Bush', 'Ben_Carson','Rand_Paul','Chris_Christie','Carly_Fiorina','Rick_Santorum','Mike_Huckabee',\"Marco_Rubio\",\"_No_Preference\",\"_Uncommitted\"])].index.tolist()\n",
    "republican_data = republican_data.drop(to_del)\n",
    "\n",
    "# Arranging Data for Features & Targets\n",
    "#republican_data = republican_data.replace(['Donald_Trump','Ted_Cruz','John_Kasich'],[1,2,3])\n",
    "\n",
    "x_vars = list(republican_data.columns[8:]) \n",
    "x_vars= republican_data[x_vars] # Features\n",
    "y_vars = republican_data['candidate'] # Target Labels\n",
    "df_rep = pd.concat([x_vars,y_vars],axis=1) #combine Feautres/Target into one dataframe\n",
    "\n",
    "feature_cols = list(df_rep.columns[:-1])  # all columns but last are features\n",
    "target_col = df_rep.columns[-1]  # last column is the target/label\n",
    "\n",
    "X_all = df_rep[feature_cols]  # feature values \n",
    "y_all = df_rep[target_col]  # corresponding targets/labels\n"
   ]
  },
  {
   "cell_type": "code",
   "execution_count": 247,
   "metadata": {
    "collapsed": false,
    "scrolled": true
   },
   "outputs": [
    {
     "name": "stdout",
     "output_type": "stream",
     "text": [
      "Training Set: 848.00 Samples\n",
      "Testing Set: 283.00 Samples\n"
     ]
    }
   ],
   "source": [
    "num_all = df_rep.shape[0]\n",
    "num_train = int(num_all - (num_all*.25))\n",
    "num_test = num_all - num_train\n",
    "\n",
    "def Stratified_Shuffle_Split(X,y,num_test):\n",
    "    sss = StratifiedShuffleSplit(y, 10, test_size=num_test, random_state = 42)\n",
    "    for train_index, test_index in sss:\n",
    "        X_train, X_test = X.iloc[train_index], X.iloc[test_index]\n",
    "        y_train, y_test = y.iloc[train_index], y.iloc[test_index]\n",
    "    return X_train, X_test, y_train, y_test\n",
    "    \n",
    "X_train, X_test, y_train, y_test = Stratified_Shuffle_Split(X_all, y_all, num_test)\n",
    "print \"Training Set: {0:.2f} Samples\".format(X_train.shape[0])\n",
    "print \"Testing Set: {0:.2f} Samples\".format(X_test.shape[0])\n"
   ]
  },
  {
   "cell_type": "markdown",
   "metadata": {},
   "source": [
    "## Random Forest"
   ]
  },
  {
   "cell_type": "code",
   "execution_count": null,
   "metadata": {
    "collapsed": true,
    "scrolled": true
   },
   "outputs": [],
   "source": [
    "def train_classifier(clf, X_train, y_train):\n",
    "    print \"{}:\".format(clf.__class__.__name__)\n",
    "    start = time.time()\n",
    "    clf.fit(X_train, y_train)\n",
    "    end = time.time()\n",
    "    train_clf_time = end - start\n",
    "    print \"Training Time (secs): {:.3f}\".format(train_clf_time)\n",
    "    return train_clf_time\n",
    "\n",
    "def predict_labels(clf, features, target):\n",
    "    start = time.time()\n",
    "    y_pred = clf.predict(features)\n",
    "    end = time.time()\n",
    "    prediction_time = end - start\n",
    "    print \"Prediction Time (secs): {:.3f}\".format(prediction_time)\n",
    "    return (f1_score(target.values, y_pred, pos_label= None, average = 'weighted'), prediction_time)\n",
    "\n",
    "# Train and Predict\n",
    "def train_predict(clf, X_train, y_train, X_test, y_test):\n",
    "    print \"------------------------------------------\"\n",
    "    train_diff = train_classifier(clf, X_train, y_train)\n",
    "    \n",
    "    # Train and predict training set:\n",
    "    f1_score_train, pred_time_train = predict_labels(clf, X_train, y_train)\n",
    "    print \"F1 score for TRAINING set:\",(f1_score_train)\n",
    "    # Predict on test data set:\n",
    "    f1_score_test, pred_time_test = predict_labels(clf, X_test, y_test)\n",
    "    print \"F1 score for TEST set:\",(f1_score_test)\n",
    "    \n",
    "    return (f1_score_train, f1_score_test, train_diff, pred_time_test)\n"
   ]
  },
  {
   "cell_type": "code",
   "execution_count": 333,
   "metadata": {
    "collapsed": true
   },
   "outputs": [],
   "source": [
    "clf_RF = RandomForestClassifier(n_estimators=10)\n",
    "\n",
    "def run_all_models(classifiers):\n",
    "    names = feature_cols\n",
    "    #df_c = pd.DataFrame()\n",
    "    for clf in classifiers:\n",
    "        df = pd.DataFrame(columns = [\n",
    "                    'Training_Size',\n",
    "                    'Testing_Size',\n",
    "                    'Training_Time',\n",
    "                    'Prediction_Time',\n",
    "                    'F1_Score_Training',\n",
    "                    'F1_Score_Testing'])\n",
    "\n",
    "        X_train, X_test, y_train, y_test = Stratified_Shuffle_Split(X_all, y, num_test)\n",
    "        \n",
    "        num_times_to_run = 1\n",
    "        sizes = [X_test.shape[0]]\n",
    "        for size in sizes: \n",
    "            for x in range(0, num_times_to_run): \n",
    "                f1_score_train, f1_score_test, train_time, pred_time_test = train_predict(clf, X_train[:size], y_train[:size], X_test, y_test)\n",
    "        \n",
    "                '''Confusion Matrix: Testing Set'''\n",
    "                y_pred = clf.fit(X_train, y_train).predict(X_test)\n",
    "                cm = confusion_matrix(y_test, y_pred)\n",
    "                np.set_printoptions(precision=2)\n",
    "                print('Confusion matrix')\n",
    "                pl.figure()\n",
    "                plot_confusion_matrix(cm, title='Confusion Matrix')\n",
    "\n",
    "                #Feature Importance:\n",
    "                feature_imp = sorted(zip(map(lambda x: round(x, 4), clf.feature_importances_), names), \n",
    "                reverse=True)      \n",
    "                df = df.append({\n",
    "                        'Training_Size': len(X_train[:size]),\n",
    "                        'Testing_Size': X_test.shape[0],\n",
    "                        'Training_Time': train_time,\n",
    "                        'Prediction_Time': pred_time_test,\n",
    "                        'F1_Score_Training': f1_score_train,\n",
    "                        'F1_Score_Testing': f1_score_test}, \n",
    "                        ignore_index= True)\n",
    "            \n",
    "            #Feature Importance\n",
    "            columns = ['Importance','Feature']\n",
    "            df_imp = pd.DataFrame(feature_imp, columns = columns)\n",
    "            \n",
    "            #mean statistics:\n",
    "            df = df[(df.Training_Size == size)]\n",
    "            df_mean = df.mean()\n",
    "            \n",
    "            print \"**********************************************************\"\n",
    "            print \"Mean Statistics:\"\n",
    "            print df_mean\n",
    "            print \"**********************************************************\"\n",
    "            print \"Feature Importance:\"\n",
    "            print df_imp\n",
    "            print \"**********************************************************\"\n",
    "            print \"Confustion Matrix:\"\n",
    "            print cm\n",
    "            \n",
    "def plot_confusion_matrix(cm, title='Confusion Matrix', cmap=pl.cm.Blues):\n",
    "    names = ['Trump','Cruz','Kasich']\n",
    "    pl.imshow(cm, interpolation='nearest', cmap=cmap)\n",
    "    pl.title(title)\n",
    "    pl.colorbar()\n",
    "    tick_marks = np.arange(len(names))\n",
    "    pl.xticks(tick_marks,names, rotation=45)\n",
    "    pl.yticks(tick_marks,names)\n",
    "    pl.tight_layout()\n",
    "    pl.ylabel('True label')\n",
    "    pl.xlabel('Predicted label')"
   ]
  },
  {
   "cell_type": "code",
   "execution_count": 334,
   "metadata": {
    "collapsed": false,
    "scrolled": true
   },
   "outputs": [
    {
     "name": "stdout",
     "output_type": "stream",
     "text": [
      "------------------------------------------\n",
      "RandomForestClassifier:\n",
      "Training Time (secs): 0.060\n",
      "Prediction Time (secs): 0.002\n",
      "F1 score for TRAINING set: 0.989313006119\n",
      "Prediction Time (secs): 0.002\n",
      "F1 score for TEST set: 0.748945178981\n",
      "Confusion matrix\n",
      "**********************************************************\n",
      "Mean Statistics:\n",
      "Training_Size        283.000000\n",
      "Testing_Size         283.000000\n",
      "Training_Time          0.059793\n",
      "Prediction_Time        0.002109\n",
      "F1_Score_Training      0.989313\n",
      "F1_Score_Testing       0.748945\n",
      "dtype: float64\n",
      "**********************************************************\n",
      "Feature Importance:\n",
      "    Importance    Feature\n",
      "0       0.0754  RHI725214\n",
      "1       0.0681  LND110210\n",
      "2       0.0443  RHI225214\n",
      "3       0.0424  AGE295214\n",
      "4       0.0423  RHI325214\n",
      "5       0.0407  POP645213\n",
      "6       0.0338  INC110213\n",
      "7       0.0323  EDU685213\n",
      "8       0.0293  POP815213\n",
      "9       0.0292  POP060210\n",
      "10      0.0284  AGE135214\n",
      "11      0.0249  RHI825214\n",
      "12      0.0228  HSG096213\n",
      "13      0.0226  NES010213\n",
      "14      0.0217  HSG495213\n",
      "15      0.0208  VET605213\n",
      "16      0.0207  PST120214\n",
      "17      0.0196  RHI125214\n",
      "18      0.0195  LFE305213\n",
      "19      0.0187  POP010210\n",
      "20      0.0182  RTN130207\n",
      "21      0.0179  AGE775214\n",
      "22      0.0176  RHI625214\n",
      "23      0.0174  HSD310213\n",
      "24      0.0166  EDU635213\n",
      "25      0.0162  HSG010214\n",
      "26      0.0153  INC910213\n",
      "27      0.0147  POP715213\n",
      "28      0.0145  MAN450207\n",
      "29      0.0145  BZA110213\n",
      "30      0.0138  RTN131207\n",
      "31      0.0135  HSG445213\n",
      "32      0.0133  BZA115213\n",
      "33      0.0128  PST045214\n",
      "34      0.0124  PST040210\n",
      "35      0.0113  BPS030214\n",
      "36      0.0112  SBO001207\n",
      "37      0.0105  SBO015207\n",
      "38      0.0099  SEX255214\n",
      "39      0.0093  AFN120207\n",
      "40      0.0090  PVY020213\n",
      "41      0.0079  SBO315207\n",
      "42      0.0079  BZA010213\n",
      "43      0.0063  SBO115207\n",
      "44      0.0060  WTN220207\n",
      "45      0.0060  RHI525214\n",
      "46      0.0052  RHI425214\n",
      "47      0.0046  SBO415207\n",
      "48      0.0046  HSD410213\n",
      "49      0.0040  SBO215207\n",
      "50      0.0000  SBO515207\n",
      "**********************************************************\n",
      "Confustion Matrix\n",
      "[[166  10   1]\n",
      " [ 34  62   0]\n",
      " [  8   1   1]]\n"
     ]
    },
    {
     "data": {
      "image/png": "[encoded data removed]",
      "text/plain": [
       "<matplotlib.figure.Figure at 0x11f979890>"
      ]
     },
     "metadata": {},
     "output_type": "display_data"
    }
   ],
   "source": [
    "run_all_models([clf_RF])"
   ]
  },
  {
   "cell_type": "markdown",
   "metadata": {},
   "source": [
    "## Fine Tune Model:"
   ]
  },
  {
   "cell_type": "code",
   "execution_count": 339,
   "metadata": {
    "collapsed": false,
    "scrolled": true
   },
   "outputs": [],
   "source": [
    "def iterate_fit_predict(number_runs):\n",
    "    f1_scores = []\n",
    "    \n",
    "    for num in range(0, number_runs):\n",
    "        X_train, X_test, y_train, y_test = Stratified_Shuffle_Split(X_all, y, num_test)\n",
    "        clf = clf_RF\n",
    "        parameters = {'max_depth':(1,2,3,4,5,6,7,8,9,10)}\n",
    "        \n",
    "        clf = GridSearchCV(clf_RF, parameters, scoring = 'f1')\n",
    "        \n",
    "        '''Confusion Matrix: Testing Set'''\n",
    "        y_pred = clf.fit(X_train, y_train).predict(X_test)\n",
    "        cm = confusion_matrix(y_test, y_pred)\n",
    "        np.set_printoptions(precision=2)\n",
    "        pl.figure()\n",
    "        plot_confusion_matrix(cm, title='Confusion Matrix')\n",
    "        \n",
    "        #Fit classifier to training data:\n",
    "        clf.fit(X_train,y_train)\n",
    "        f1_scores.append(clf.score(X_test,y_test))\n",
    "        #clf = clf.best_estimator_s\n",
    "    \n",
    "    df_f1 = pd.Series(f1_scores)\n",
    "    print clf\n",
    "    print \"\\nF1 Scores:\"\n",
    "    print round(df_f1,4)\n",
    "    \n",
    "    print \"\\n Average F1 Test Scores:\"\n",
    "    print round(df_f1.mean(),4)\n",
    "    \n",
    "    print \"\\n Confusion Matrix:\"\n",
    "    print cm\n",
    " "
   ]
  },
  {
   "cell_type": "code",
   "execution_count": 340,
   "metadata": {
    "collapsed": false,
    "scrolled": true
   },
   "outputs": [
    {
     "name": "stdout",
     "output_type": "stream",
     "text": [
      "GridSearchCV(cv=None, error_score='raise',\n",
      "       estimator=RandomForestClassifier(bootstrap=True, class_weight=None, criterion='gini',\n",
      "            max_depth=None, max_features='auto', max_leaf_nodes=None,\n",
      "            min_samples_leaf=1, min_samples_split=2,\n",
      "            min_weight_fraction_leaf=0.0, n_estimators=10, n_jobs=1,\n",
      "            oob_score=False, random_state=None, verbose=0,\n",
      "            warm_start=False),\n",
      "       fit_params={}, iid=True, n_jobs=1,\n",
      "       param_grid={'max_depth': (1, 2, 3, 4, 5, 6, 7, 8, 9, 10)},\n",
      "       pre_dispatch='2*n_jobs', refit=True, scoring='f1', verbose=0)\n",
      "\n",
      "F1 Scores:\n",
      "0.8053\n",
      "\n",
      " Average F1 Test Scores:\n",
      "0.8053\n",
      "\n",
      " Confusion Matrix:\n",
      "[[161  15   1]\n",
      " [ 27  69   0]\n",
      " [  9   0   1]]\n"
     ]
    },
    {
     "data": {
      "image/png": "[encoded data removed]",
      "text/plain": [
       "<matplotlib.figure.Figure at 0x12130a150>"
      ]
     },
     "metadata": {},
     "output_type": "display_data"
    }
   ],
   "source": [
    "iterate_fit_predict(1)"
   ]
  },
  {
   "cell_type": "markdown",
   "metadata": {},
   "source": [
    "## Decision Tree - Classification"
   ]
  },
  {
   "cell_type": "code",
   "execution_count": null,
   "metadata": {
    "collapsed": false
   },
   "outputs": [],
   "source": [
    "def perform_metric(label,prediction):\n",
    "    f1 = f1_score(label,prediction,pos_label= None, average = 'weighted')\n",
    "    return f1\n",
    "    \n",
    "def model_complexity(X_train, y_train, X_test, y_test):\n",
    "    print \"Model Complexity:\"\n",
    "    max_depth = np.arange(1,20)\n",
    "    train_err = np.zeros(len(max_depth))\n",
    "    test_err = np.zeros(len(max_depth))\n",
    "    \n",
    "    for i, d in enumerate(max_depth):\n",
    "        clf = DecisionTreeClassifier(max_depth = d)\n",
    "        clf.fit(X_train,y_train)\n",
    "        train_err[i] = perform_metric(y_train, clf.predict(X_train))\n",
    "        test_err[i] = perform_metric(y_test, clf.predict(X_test))\n",
    "    complexity_plot(max_depth, train_err, test_err)\n",
    "\n",
    "def complexity_plot(max_depth, train_err, test_err):\n",
    "    pl.figure()\n",
    "    pl.title('Decision Trees: Performance vs Max Depth', fontsize = 18)\n",
    "    pl.plot(max_depth, test_err, lw=2, label = 'test error')\n",
    "    pl.plot(max_depth, train_err, lw=2, label = 'training error')\n",
    "    pl.legend()\n",
    "    pl.xlabel('Max Depth',fontsize =14)\n",
    "    pl.ylabel('Error', fontsize =14)\n",
    "    pl.show()\n",
    "\n",
    "model_complexity(X_train,y_train,X_test,y_test)"
   ]
  },
  {
   "cell_type": "code",
   "execution_count": null,
   "metadata": {
    "collapsed": false
   },
   "outputs": [],
   "source": [
    "# Replace candidate value with name:\n",
    "df_rep.ix[df_rep.candidate == 1, 'candidate'] = 'Donald_Trump'\n",
    "df_rep.ix[df_rep.candidate == 2, 'candidate'] = 'Ted_Cruz'\n",
    "df_rep.ix[df_rep.candidate == 3, 'candidate'] = 'John_Kasich'\n",
    "#Decision Tree Data Frame\n",
    "df_rep_dt = df_rep\n",
    "\n",
    "target_col = df_rep_dt.columns[-1] \n",
    "y_dt = df_rep_dt[target_col]  "
   ]
  },
  {
   "cell_type": "code",
   "execution_count": null,
   "metadata": {
    "collapsed": false
   },
   "outputs": [],
   "source": [
    "from sklearn import tree\n",
    "from sklearn.datasets import load_iris\n",
    "from IPython.display import Image \n",
    "import os\n",
    "\n",
    "feature_names = feature_cols\n",
    "target_names = ['Donald_Trump','Ted_Cruz','John_Kasich']\n",
    "\n",
    "clf = tree.DecisionTreeClassifier()\n",
    "clf = clf.fit(X_train, y_train)\n",
    "\n",
    "def create_tree(clf,features):\n",
    "    with open(\"tree.dot\", 'w') as f:\n",
    "        f = tree.export_graphviz(clf, out_file=f)\n",
    "        \n",
    "    os.unlink('tree.dot')\n",
    "    \n",
    "    dot_data = StringIO() \n",
    "    tree.export_graphviz(clf, out_file=dot_data) \n",
    "    graph = pydot.graph_from_dot_data(dot_data.getvalue()) \n",
    "    graph.write_pdf(\"tree.pdf\") \n",
    "\n",
    "\n",
    "    dot_data = StringIO()  \n",
    "    tree.export_graphviz(clf, out_file=dot_data,  \n",
    "                             feature_names=feature_names,  \n",
    "                             class_names=target_names,  \n",
    "                             filled=True, rounded=True,  \n",
    "                             special_characters=True)  \n",
    "    graph = pydot.graph_from_dot_data(dot_data.getvalue())  \n",
    "    Image(graph.create_png()) \n"
   ]
  }
 ],
 "metadata": {
  "kernelspec": {
   "display_name": "Python 2",
   "language": "python",
   "name": "python2"
  },
  "language_info": {
   "codemirror_mode": {
    "name": "ipython",
    "version": 2
   },
   "file_extension": ".py",
   "mimetype": "text/x-python",
   "name": "python",
   "nbconvert_exporter": "python",
   "pygments_lexer": "ipython2",
   "version": "2.7.11"
  }
 },
 "nbformat": 4,
 "nbformat_minor": 0
}
